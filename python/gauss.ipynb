{
 "cells": [
  {
   "cell_type": "markdown",
   "metadata": {},
   "source": [
    "Imports"
   ]
  },
  {
   "cell_type": "code",
   "execution_count": 13,
   "metadata": {},
   "outputs": [],
   "source": [
    "import numpy as np\n",
    "import math\n",
    "from time import perf_counter"
   ]
  },
  {
   "cell_type": "markdown",
   "metadata": {},
   "source": [
    "Input"
   ]
  },
  {
   "cell_type": "code",
   "execution_count": 14,
   "metadata": {},
   "outputs": [
    {
     "name": "stdout",
     "output_type": "stream",
     "text": [
      "Pour une matrice carrée de taille nxn. Entrez n : \n",
      "A origine: \n",
      "[[6. 4. 8.]\n",
      " [1. 7. 5.]\n",
      " [0. 2. 3.]]\n",
      "\n",
      " [A | Id]\n",
      "[[6. 4. 8. 1. 0. 0.]\n",
      " [1. 7. 5. 0. 1. 0.]\n",
      " [0. 2. 3. 0. 0. 1.]]\n"
     ]
    }
   ],
   "source": [
    "print(\"Pour une matrice carrée de taille nxn. Entrez n : \")\n",
    "# size = int(input())\n",
    "size = 3\n",
    "np.random.seed()\n",
    "a = np.random.choice(size*size, size*size, replace = False).reshape((size, size))\n",
    "id = np.identity(size)\n",
    "a = a.astype(float)\n",
    "print(\"A origine: \")\n",
    "print(a)\n",
    "print()\n",
    "print(\" [A | Id]\")\n",
    "aid = np.concatenate((a, id), axis=1)\n",
    "print(aid)"
   ]
  },
  {
   "cell_type": "markdown",
   "metadata": {},
   "source": [
    "Main loop"
   ]
  },
  {
   "cell_type": "code",
   "execution_count": 15,
   "metadata": {},
   "outputs": [
    {
     "name": "stdout",
     "output_type": "stream",
     "text": [
      "Avec cet algp A =\n",
      "[[ 0.15714286  0.05714286 -0.51428571]\n",
      " [-0.04285714  0.25714286 -0.31428571]\n",
      " [ 0.02857143 -0.17142857  0.54285714]]\n",
      "En utilisant une calculette A^-1 = \n",
      "[[ 0.15714286  0.05714286 -0.51428571]\n",
      " [-0.04285714  0.25714286 -0.31428571]\n",
      " [ 0.02857143 -0.17142857  0.54285714]]\n",
      "Pour une matrice de taille n = 3\n",
      "CPU Execution time: 0.0008610000368207693 s\n",
      "CPU Execution time: 0.8610000368207693 ms\n",
      "CPU Execution time: 861.0000368207693 us\n"
     ]
    }
   ],
   "source": [
    "n = int(math.sqrt(a.size))\n",
    "m = n * 2\n",
    "\n",
    "start = perf_counter()\n",
    "r = -1\n",
    "\n",
    "#Pour j de 1 a n\n",
    "for j in range(n):\n",
    "    #Rechercher max(|A[i,j]|, r+1 <= i <= n)\n",
    "    max = np.abs(aid).max(0)[j]\n",
    "\n",
    "    #On note K l'index de ligne du maximum\n",
    "    k = np.abs(aid).argmax(0)[j]\n",
    "\n",
    "    #Si A[k,j] != 0 Alors\n",
    "    if(aid[k,j] != 0):\n",
    "        r += 1\n",
    "        #Diviser la ligne k par A[k,j]\n",
    "        div = float(max)\n",
    "        aid[k] = aid[k] / aid[k,j]\n",
    "\n",
    "        #échanger ligne k et r\n",
    "        if(k != r):\n",
    "            aid[[k, r]] = aid[[r, k]]\n",
    "\n",
    "        #Pour i de 1 a m\n",
    "        for i in range(n):\n",
    "            #Si i != r Alors\n",
    "            if(i != r):\n",
    "                #Soustraire a la ligne i la ligne r multipliée par A[i,j]\n",
    "                factor = float(aid[i,j])\n",
    "                for l in range(m):\n",
    "                    aid[i,l] -= factor * aid[r,l]\n",
    "\n",
    "#UI\n",
    "end = perf_counter()\n",
    "print(\"Avec cet algp A =\")\n",
    "print(np.hsplit(aid, 2)[1])\n",
    "print(\"En utilisant une calculette A^-1 = \")\n",
    "print(np.linalg.inv(a))\n",
    "\n",
    "res = end - start\n",
    "print(\"Pour une matrice de taille n = \" + str(size))\n",
    "print('CPU Execution time:', res, 's')\n",
    "print('CPU Execution time:', res * 1000, 'ms')\n",
    "print('CPU Execution time:', res * 1000000, 'us')\n",
    "\n"
   ]
  }
 ],
 "metadata": {
  "kernelspec": {
   "display_name": "Python 3",
   "language": "python",
   "name": "python3"
  },
  "language_info": {
   "codemirror_mode": {
    "name": "ipython",
    "version": 3
   },
   "file_extension": ".py",
   "mimetype": "text/x-python",
   "name": "python",
   "nbconvert_exporter": "python",
   "pygments_lexer": "ipython3",
   "version": "3.11.5"
  },
  "orig_nbformat": 4
 },
 "nbformat": 4,
 "nbformat_minor": 2
}
